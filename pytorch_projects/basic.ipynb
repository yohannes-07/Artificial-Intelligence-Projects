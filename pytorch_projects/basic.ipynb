{
 "cells": [
  {
   "cell_type": "code",
   "execution_count": 1,
   "id": "3412f66b",
   "metadata": {},
   "outputs": [],
   "source": [
    "import torch\n",
    "import torchvision\n",
    "import torch.nn as nn\n",
    "import numpy as np\n",
    "import matplotlib.pyplot as plt"
   ]
  },
  {
   "cell_type": "code",
   "execution_count": 10,
   "id": "5694ab1c",
   "metadata": {},
   "outputs": [],
   "source": [
    "class LinearModel(nn.Module):\n",
    "    \"\"\"\n",
    "    Takes the input (x) and returns x * w^t + b\n",
    "    \"\"\"\n",
    "    def __init__(self, input_size, output_size):\n",
    "        # Pass our class and self to superclass and call the superclass's init function\n",
    "        super(LinearModel, self).__init__() \n",
    "        # nn.Parameter wraps our normal tensors and \"tells\" Pytorch\n",
    "        # that they are our nn.Module's model parameters to be optimized \n",
    "        self.w = nn.Parameter(torch.randn(output_size, input_size))\n",
    "        self.b = nn.Parameter(torch.randn(1, output_size))\n",
    "\n",
    "    def forward(self, x):\n",
    "        return torch.matmul(x,  self.w.t()) + self.b"
   ]
  },
  {
   "cell_type": "code",
   "execution_count": 11,
   "id": "71e3f735",
   "metadata": {},
   "outputs": [
    {
     "name": "stdout",
     "output_type": "stream",
     "text": [
      "torch.Size([10, 1])\n",
      "tensor([[ 4.0072],\n",
      "        [ 0.1931],\n",
      "        [-4.1714],\n",
      "        [-3.6156],\n",
      "        [ 0.2465],\n",
      "        [ 2.6339],\n",
      "        [-1.2199],\n",
      "        [-0.4575],\n",
      "        [-0.2744],\n",
      "        [ 2.4000]])\n"
     ]
    }
   ],
   "source": [
    "# Create a batch of 10 datapoints each 5D\n",
    "input_data = torch.randn(10, 5)\n",
    "\n",
    "# Create an instance of our Model\n",
    "linear_model = LinearModel(5, 1)\n",
    "\n",
    "# Perform a forward pass!\n",
    "output = linear_model(input_data)\n",
    "\n",
    "print(output.shape)\n",
    "print(output.detach())\n",
    "# Note: detach \"disconnects\" the tensor and returns it with no history of previous calculations"
   ]
  },
  {
   "cell_type": "code",
   "execution_count": null,
   "id": "3e44bcb3",
   "metadata": {},
   "outputs": [],
   "source": []
  }
 ],
 "metadata": {
  "kernelspec": {
   "display_name": "venv",
   "language": "python",
   "name": "python3"
  },
  "language_info": {
   "codemirror_mode": {
    "name": "ipython",
    "version": 3
   },
   "file_extension": ".py",
   "mimetype": "text/x-python",
   "name": "python",
   "nbconvert_exporter": "python",
   "pygments_lexer": "ipython3",
   "version": "3.10.0"
  }
 },
 "nbformat": 4,
 "nbformat_minor": 5
}
